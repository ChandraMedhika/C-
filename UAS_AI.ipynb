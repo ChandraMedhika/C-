{
  "metadata": {
    "kernelspec": {
      "language": "python",
      "display_name": "Python 3",
      "name": "python3"
    },
    "language_info": {
      "pygments_lexer": "ipython3",
      "nbconvert_exporter": "python",
      "version": "3.6.4",
      "file_extension": ".py",
      "codemirror_mode": {
        "name": "ipython",
        "version": 3
      },
      "name": "python",
      "mimetype": "text/x-python"
    },
    "colab": {
      "name": "UAS_AI",
      "provenance": [],
      "collapsed_sections": [],
      "include_colab_link": true
    }
  },
  "nbformat_minor": 0,
  "nbformat": 4,
  "cells": [
    {
      "cell_type": "markdown",
      "metadata": {
        "id": "view-in-github",
        "colab_type": "text"
      },
      "source": [
        "<a href=\"https://colab.research.google.com/github/ChandraMedhika/CPP/blob/main/UAS_AI.ipynb\" target=\"_parent\"><img src=\"https://colab.research.google.com/assets/colab-badge.svg\" alt=\"Open In Colab\"/></a>"
      ]
    },
    {
      "cell_type": "code",
      "source": [
        "import pandas as pd\n",
        "import numpy as np\n",
        "from sklearn.linear_model import LinearRegression\n",
        "from sklearn.model_selection import train_test_split\n",
        "import matplotlib.pyplot as plt"
      ],
      "metadata": {
        "execution": {
          "iopub.status.busy": "2022-06-11T14:08:42.421238Z",
          "iopub.execute_input": "2022-06-11T14:08:42.422196Z",
          "iopub.status.idle": "2022-06-11T14:08:42.427762Z",
          "shell.execute_reply.started": "2022-06-11T14:08:42.422151Z",
          "shell.execute_reply": "2022-06-11T14:08:42.426513Z"
        },
        "trusted": true,
        "id": "U7RhSdV-V3_f"
      },
      "execution_count": null,
      "outputs": []
    },
    {
      "cell_type": "code",
      "source": [
        "!pip3 install pygad"
      ],
      "metadata": {
        "execution": {
          "iopub.status.busy": "2022-06-11T14:08:42.560648Z",
          "iopub.execute_input": "2022-06-11T14:08:42.561930Z",
          "iopub.status.idle": "2022-06-11T14:08:42.569621Z",
          "shell.execute_reply.started": "2022-06-11T14:08:42.561871Z",
          "shell.execute_reply": "2022-06-11T14:08:42.567938Z"
        },
        "trusted": true,
        "id": "f0KBl72oV3_u",
        "colab": {
          "base_uri": "https://localhost:8080/"
        },
        "outputId": "84c9acbb-b752-4227-a51c-b4e5f64fcbc6"
      },
      "execution_count": null,
      "outputs": [
        {
          "output_type": "stream",
          "name": "stdout",
          "text": [
            "Looking in indexes: https://pypi.org/simple, https://us-python.pkg.dev/colab-wheels/public/simple/\n",
            "Collecting pygad\n",
            "  Downloading pygad-2.16.3-py3-none-any.whl (53 kB)\n",
            "\u001b[K     |████████████████████████████████| 53 kB 1.3 MB/s \n",
            "\u001b[?25hRequirement already satisfied: numpy in /usr/local/lib/python3.7/dist-packages (from pygad) (1.21.6)\n",
            "Requirement already satisfied: matplotlib in /usr/local/lib/python3.7/dist-packages (from pygad) (3.2.2)\n",
            "Requirement already satisfied: python-dateutil>=2.1 in /usr/local/lib/python3.7/dist-packages (from matplotlib->pygad) (2.8.2)\n",
            "Requirement already satisfied: cycler>=0.10 in /usr/local/lib/python3.7/dist-packages (from matplotlib->pygad) (0.11.0)\n",
            "Requirement already satisfied: pyparsing!=2.0.4,!=2.1.2,!=2.1.6,>=2.0.1 in /usr/local/lib/python3.7/dist-packages (from matplotlib->pygad) (3.0.9)\n",
            "Requirement already satisfied: kiwisolver>=1.0.1 in /usr/local/lib/python3.7/dist-packages (from matplotlib->pygad) (1.4.2)\n",
            "Requirement already satisfied: typing-extensions in /usr/local/lib/python3.7/dist-packages (from kiwisolver>=1.0.1->matplotlib->pygad) (4.2.0)\n",
            "Requirement already satisfied: six>=1.5 in /usr/local/lib/python3.7/dist-packages (from python-dateutil>=2.1->matplotlib->pygad) (1.15.0)\n",
            "Installing collected packages: pygad\n",
            "Successfully installed pygad-2.16.3\n"
          ]
        }
      ]
    },
    {
      "cell_type": "code",
      "source": [
        "import pygad"
      ],
      "metadata": {
        "execution": {
          "iopub.status.busy": "2022-06-11T14:08:42.577288Z",
          "iopub.execute_input": "2022-06-11T14:08:42.578339Z",
          "iopub.status.idle": "2022-06-11T14:08:42.604452Z",
          "shell.execute_reply.started": "2022-06-11T14:08:42.578278Z",
          "shell.execute_reply": "2022-06-11T14:08:42.602975Z"
        },
        "trusted": true,
        "id": "ud9JqScKV3_x"
      },
      "execution_count": null,
      "outputs": []
    },
    {
      "cell_type": "code",
      "source": [
        "df = pd.read_csv(\"/russia_losses_equipment.csv\")\n",
        "df.head()"
      ],
      "metadata": {
        "execution": {
          "iopub.status.busy": "2022-06-11T14:08:42.689887Z",
          "iopub.execute_input": "2022-06-11T14:08:42.691131Z",
          "iopub.status.idle": "2022-06-11T14:08:42.725936Z",
          "shell.execute_reply.started": "2022-06-11T14:08:42.691079Z",
          "shell.execute_reply": "2022-06-11T14:08:42.724613Z"
        },
        "trusted": true,
        "id": "5HkImy-gV3_0",
        "colab": {
          "base_uri": "https://localhost:8080/",
          "height": 392
        },
        "outputId": "e7f28b04-18bd-491b-ffba-c4e5e0f07d53"
      },
      "execution_count": null,
      "outputs": [
        {
          "output_type": "execute_result",
          "data": {
            "text/plain": [
              "         date  day  aircraft  helicopter  tank  APC  field artillery  MRL  \\\n",
              "0  2022-02-25    2        10           7    80  516               49    4   \n",
              "1  2022-02-26    3        27          26   146  706               49    4   \n",
              "2  2022-02-27    4        27          26   150  706               50    4   \n",
              "3  2022-02-28    5        29          29   150  816               74   21   \n",
              "4  2022-03-01    6        29          29   198  846               77   24   \n",
              "\n",
              "   military auto  fuel tank  drone  naval ship  anti-aircraft warfare  \\\n",
              "0          100.0       60.0      0           2                      0   \n",
              "1          130.0       60.0      2           2                      0   \n",
              "2          130.0       60.0      2           2                      0   \n",
              "3          291.0       60.0      3           2                      5   \n",
              "4          305.0       60.0      3           2                      7   \n",
              "\n",
              "   special equipment  mobile SRBM system  vehicles and fuel tanks  \\\n",
              "0                NaN                 NaN                      NaN   \n",
              "1                NaN                 NaN                      NaN   \n",
              "2                NaN                 NaN                      NaN   \n",
              "3                NaN                 NaN                      NaN   \n",
              "4                NaN                 NaN                      NaN   \n",
              "\n",
              "   cruise missiles greatest losses direction  \n",
              "0              NaN                       NaN  \n",
              "1              NaN                       NaN  \n",
              "2              NaN                       NaN  \n",
              "3              NaN                       NaN  \n",
              "4              NaN                       NaN  "
            ],
            "text/html": [
              "\n",
              "  <div id=\"df-ad6ecb0e-cc3e-4252-acd9-e0909f65553a\">\n",
              "    <div class=\"colab-df-container\">\n",
              "      <div>\n",
              "<style scoped>\n",
              "    .dataframe tbody tr th:only-of-type {\n",
              "        vertical-align: middle;\n",
              "    }\n",
              "\n",
              "    .dataframe tbody tr th {\n",
              "        vertical-align: top;\n",
              "    }\n",
              "\n",
              "    .dataframe thead th {\n",
              "        text-align: right;\n",
              "    }\n",
              "</style>\n",
              "<table border=\"1\" class=\"dataframe\">\n",
              "  <thead>\n",
              "    <tr style=\"text-align: right;\">\n",
              "      <th></th>\n",
              "      <th>date</th>\n",
              "      <th>day</th>\n",
              "      <th>aircraft</th>\n",
              "      <th>helicopter</th>\n",
              "      <th>tank</th>\n",
              "      <th>APC</th>\n",
              "      <th>field artillery</th>\n",
              "      <th>MRL</th>\n",
              "      <th>military auto</th>\n",
              "      <th>fuel tank</th>\n",
              "      <th>drone</th>\n",
              "      <th>naval ship</th>\n",
              "      <th>anti-aircraft warfare</th>\n",
              "      <th>special equipment</th>\n",
              "      <th>mobile SRBM system</th>\n",
              "      <th>vehicles and fuel tanks</th>\n",
              "      <th>cruise missiles</th>\n",
              "      <th>greatest losses direction</th>\n",
              "    </tr>\n",
              "  </thead>\n",
              "  <tbody>\n",
              "    <tr>\n",
              "      <th>0</th>\n",
              "      <td>2022-02-25</td>\n",
              "      <td>2</td>\n",
              "      <td>10</td>\n",
              "      <td>7</td>\n",
              "      <td>80</td>\n",
              "      <td>516</td>\n",
              "      <td>49</td>\n",
              "      <td>4</td>\n",
              "      <td>100.0</td>\n",
              "      <td>60.0</td>\n",
              "      <td>0</td>\n",
              "      <td>2</td>\n",
              "      <td>0</td>\n",
              "      <td>NaN</td>\n",
              "      <td>NaN</td>\n",
              "      <td>NaN</td>\n",
              "      <td>NaN</td>\n",
              "      <td>NaN</td>\n",
              "    </tr>\n",
              "    <tr>\n",
              "      <th>1</th>\n",
              "      <td>2022-02-26</td>\n",
              "      <td>3</td>\n",
              "      <td>27</td>\n",
              "      <td>26</td>\n",
              "      <td>146</td>\n",
              "      <td>706</td>\n",
              "      <td>49</td>\n",
              "      <td>4</td>\n",
              "      <td>130.0</td>\n",
              "      <td>60.0</td>\n",
              "      <td>2</td>\n",
              "      <td>2</td>\n",
              "      <td>0</td>\n",
              "      <td>NaN</td>\n",
              "      <td>NaN</td>\n",
              "      <td>NaN</td>\n",
              "      <td>NaN</td>\n",
              "      <td>NaN</td>\n",
              "    </tr>\n",
              "    <tr>\n",
              "      <th>2</th>\n",
              "      <td>2022-02-27</td>\n",
              "      <td>4</td>\n",
              "      <td>27</td>\n",
              "      <td>26</td>\n",
              "      <td>150</td>\n",
              "      <td>706</td>\n",
              "      <td>50</td>\n",
              "      <td>4</td>\n",
              "      <td>130.0</td>\n",
              "      <td>60.0</td>\n",
              "      <td>2</td>\n",
              "      <td>2</td>\n",
              "      <td>0</td>\n",
              "      <td>NaN</td>\n",
              "      <td>NaN</td>\n",
              "      <td>NaN</td>\n",
              "      <td>NaN</td>\n",
              "      <td>NaN</td>\n",
              "    </tr>\n",
              "    <tr>\n",
              "      <th>3</th>\n",
              "      <td>2022-02-28</td>\n",
              "      <td>5</td>\n",
              "      <td>29</td>\n",
              "      <td>29</td>\n",
              "      <td>150</td>\n",
              "      <td>816</td>\n",
              "      <td>74</td>\n",
              "      <td>21</td>\n",
              "      <td>291.0</td>\n",
              "      <td>60.0</td>\n",
              "      <td>3</td>\n",
              "      <td>2</td>\n",
              "      <td>5</td>\n",
              "      <td>NaN</td>\n",
              "      <td>NaN</td>\n",
              "      <td>NaN</td>\n",
              "      <td>NaN</td>\n",
              "      <td>NaN</td>\n",
              "    </tr>\n",
              "    <tr>\n",
              "      <th>4</th>\n",
              "      <td>2022-03-01</td>\n",
              "      <td>6</td>\n",
              "      <td>29</td>\n",
              "      <td>29</td>\n",
              "      <td>198</td>\n",
              "      <td>846</td>\n",
              "      <td>77</td>\n",
              "      <td>24</td>\n",
              "      <td>305.0</td>\n",
              "      <td>60.0</td>\n",
              "      <td>3</td>\n",
              "      <td>2</td>\n",
              "      <td>7</td>\n",
              "      <td>NaN</td>\n",
              "      <td>NaN</td>\n",
              "      <td>NaN</td>\n",
              "      <td>NaN</td>\n",
              "      <td>NaN</td>\n",
              "    </tr>\n",
              "  </tbody>\n",
              "</table>\n",
              "</div>\n",
              "      <button class=\"colab-df-convert\" onclick=\"convertToInteractive('df-ad6ecb0e-cc3e-4252-acd9-e0909f65553a')\"\n",
              "              title=\"Convert this dataframe to an interactive table.\"\n",
              "              style=\"display:none;\">\n",
              "        \n",
              "  <svg xmlns=\"http://www.w3.org/2000/svg\" height=\"24px\"viewBox=\"0 0 24 24\"\n",
              "       width=\"24px\">\n",
              "    <path d=\"M0 0h24v24H0V0z\" fill=\"none\"/>\n",
              "    <path d=\"M18.56 5.44l.94 2.06.94-2.06 2.06-.94-2.06-.94-.94-2.06-.94 2.06-2.06.94zm-11 1L8.5 8.5l.94-2.06 2.06-.94-2.06-.94L8.5 2.5l-.94 2.06-2.06.94zm10 10l.94 2.06.94-2.06 2.06-.94-2.06-.94-.94-2.06-.94 2.06-2.06.94z\"/><path d=\"M17.41 7.96l-1.37-1.37c-.4-.4-.92-.59-1.43-.59-.52 0-1.04.2-1.43.59L10.3 9.45l-7.72 7.72c-.78.78-.78 2.05 0 2.83L4 21.41c.39.39.9.59 1.41.59.51 0 1.02-.2 1.41-.59l7.78-7.78 2.81-2.81c.8-.78.8-2.07 0-2.86zM5.41 20L4 18.59l7.72-7.72 1.47 1.35L5.41 20z\"/>\n",
              "  </svg>\n",
              "      </button>\n",
              "      \n",
              "  <style>\n",
              "    .colab-df-container {\n",
              "      display:flex;\n",
              "      flex-wrap:wrap;\n",
              "      gap: 12px;\n",
              "    }\n",
              "\n",
              "    .colab-df-convert {\n",
              "      background-color: #E8F0FE;\n",
              "      border: none;\n",
              "      border-radius: 50%;\n",
              "      cursor: pointer;\n",
              "      display: none;\n",
              "      fill: #1967D2;\n",
              "      height: 32px;\n",
              "      padding: 0 0 0 0;\n",
              "      width: 32px;\n",
              "    }\n",
              "\n",
              "    .colab-df-convert:hover {\n",
              "      background-color: #E2EBFA;\n",
              "      box-shadow: 0px 1px 2px rgba(60, 64, 67, 0.3), 0px 1px 3px 1px rgba(60, 64, 67, 0.15);\n",
              "      fill: #174EA6;\n",
              "    }\n",
              "\n",
              "    [theme=dark] .colab-df-convert {\n",
              "      background-color: #3B4455;\n",
              "      fill: #D2E3FC;\n",
              "    }\n",
              "\n",
              "    [theme=dark] .colab-df-convert:hover {\n",
              "      background-color: #434B5C;\n",
              "      box-shadow: 0px 1px 3px 1px rgba(0, 0, 0, 0.15);\n",
              "      filter: drop-shadow(0px 1px 2px rgba(0, 0, 0, 0.3));\n",
              "      fill: #FFFFFF;\n",
              "    }\n",
              "  </style>\n",
              "\n",
              "      <script>\n",
              "        const buttonEl =\n",
              "          document.querySelector('#df-ad6ecb0e-cc3e-4252-acd9-e0909f65553a button.colab-df-convert');\n",
              "        buttonEl.style.display =\n",
              "          google.colab.kernel.accessAllowed ? 'block' : 'none';\n",
              "\n",
              "        async function convertToInteractive(key) {\n",
              "          const element = document.querySelector('#df-ad6ecb0e-cc3e-4252-acd9-e0909f65553a');\n",
              "          const dataTable =\n",
              "            await google.colab.kernel.invokeFunction('convertToInteractive',\n",
              "                                                     [key], {});\n",
              "          if (!dataTable) return;\n",
              "\n",
              "          const docLinkHtml = 'Like what you see? Visit the ' +\n",
              "            '<a target=\"_blank\" href=https://colab.research.google.com/notebooks/data_table.ipynb>data table notebook</a>'\n",
              "            + ' to learn more about interactive tables.';\n",
              "          element.innerHTML = '';\n",
              "          dataTable['output_type'] = 'display_data';\n",
              "          await google.colab.output.renderOutput(dataTable, element);\n",
              "          const docLink = document.createElement('div');\n",
              "          docLink.innerHTML = docLinkHtml;\n",
              "          element.appendChild(docLink);\n",
              "        }\n",
              "      </script>\n",
              "    </div>\n",
              "  </div>\n",
              "  "
            ]
          },
          "metadata": {},
          "execution_count": 4
        }
      ]
    },
    {
      "cell_type": "code",
      "source": [
        "df.info()"
      ],
      "metadata": {
        "execution": {
          "iopub.status.busy": "2022-06-11T14:08:42.843320Z",
          "iopub.execute_input": "2022-06-11T14:08:42.843890Z",
          "iopub.status.idle": "2022-06-11T14:08:42.861035Z",
          "shell.execute_reply.started": "2022-06-11T14:08:42.843828Z",
          "shell.execute_reply": "2022-06-11T14:08:42.860075Z"
        },
        "trusted": true,
        "id": "wBIANBpUV3_2",
        "colab": {
          "base_uri": "https://localhost:8080/"
        },
        "outputId": "121155ab-5b36-439c-868d-82e735bc3580"
      },
      "execution_count": null,
      "outputs": [
        {
          "output_type": "stream",
          "name": "stdout",
          "text": [
            "<class 'pandas.core.frame.DataFrame'>\n",
            "RangeIndex: 107 entries, 0 to 106\n",
            "Data columns (total 18 columns):\n",
            " #   Column                     Non-Null Count  Dtype  \n",
            "---  ------                     --------------  -----  \n",
            " 0   date                       107 non-null    object \n",
            " 1   day                        107 non-null    int64  \n",
            " 2   aircraft                   107 non-null    int64  \n",
            " 3   helicopter                 107 non-null    int64  \n",
            " 4   tank                       107 non-null    int64  \n",
            " 5   APC                        107 non-null    int64  \n",
            " 6   field artillery            107 non-null    int64  \n",
            " 7   MRL                        107 non-null    int64  \n",
            " 8   military auto              65 non-null     float64\n",
            " 9   fuel tank                  65 non-null     float64\n",
            " 10  drone                      107 non-null    int64  \n",
            " 11  naval ship                 107 non-null    int64  \n",
            " 12  anti-aircraft warfare      107 non-null    int64  \n",
            " 13  special equipment          88 non-null     float64\n",
            " 14  mobile SRBM system         36 non-null     float64\n",
            " 15  vehicles and fuel tanks    42 non-null     float64\n",
            " 16  cruise missiles            42 non-null     float64\n",
            " 17  greatest losses direction  18 non-null     object \n",
            "dtypes: float64(6), int64(10), object(2)\n",
            "memory usage: 15.2+ KB\n"
          ]
        }
      ]
    },
    {
      "cell_type": "code",
      "source": [
        "df.shape"
      ],
      "metadata": {
        "execution": {
          "iopub.status.busy": "2022-06-11T14:08:43.012824Z",
          "iopub.execute_input": "2022-06-11T14:08:43.013561Z",
          "iopub.status.idle": "2022-06-11T14:08:43.021631Z",
          "shell.execute_reply.started": "2022-06-11T14:08:43.013511Z",
          "shell.execute_reply": "2022-06-11T14:08:43.020431Z"
        },
        "trusted": true,
        "id": "XZKNWssaV3_4",
        "colab": {
          "base_uri": "https://localhost:8080/"
        },
        "outputId": "9eaf62e1-866a-4791-a884-79cf5c92cea0"
      },
      "execution_count": null,
      "outputs": [
        {
          "output_type": "execute_result",
          "data": {
            "text/plain": [
              "(107, 18)"
            ]
          },
          "metadata": {},
          "execution_count": 6
        }
      ]
    },
    {
      "cell_type": "code",
      "source": [
        "df.count()"
      ],
      "metadata": {
        "execution": {
          "iopub.status.busy": "2022-06-11T14:08:43.191014Z",
          "iopub.execute_input": "2022-06-11T14:08:43.191505Z",
          "iopub.status.idle": "2022-06-11T14:08:43.204702Z",
          "shell.execute_reply.started": "2022-06-11T14:08:43.191471Z",
          "shell.execute_reply": "2022-06-11T14:08:43.203307Z"
        },
        "trusted": true,
        "id": "xgzPa5TfV3_6",
        "colab": {
          "base_uri": "https://localhost:8080/"
        },
        "outputId": "5c345bdc-c268-45c8-fc28-0a44bcde9bac"
      },
      "execution_count": null,
      "outputs": [
        {
          "output_type": "execute_result",
          "data": {
            "text/plain": [
              "date                         107\n",
              "day                          107\n",
              "aircraft                     107\n",
              "helicopter                   107\n",
              "tank                         107\n",
              "APC                          107\n",
              "field artillery              107\n",
              "MRL                          107\n",
              "military auto                 65\n",
              "fuel tank                     65\n",
              "drone                        107\n",
              "naval ship                   107\n",
              "anti-aircraft warfare        107\n",
              "special equipment             88\n",
              "mobile SRBM system            36\n",
              "vehicles and fuel tanks       42\n",
              "cruise missiles               42\n",
              "greatest losses direction     18\n",
              "dtype: int64"
            ]
          },
          "metadata": {},
          "execution_count": 7
        }
      ]
    },
    {
      "cell_type": "code",
      "source": [
        "df.describe()"
      ],
      "metadata": {
        "execution": {
          "iopub.status.busy": "2022-06-11T14:08:43.341464Z",
          "iopub.execute_input": "2022-06-11T14:08:43.341987Z",
          "iopub.status.idle": "2022-06-11T14:08:43.407570Z",
          "shell.execute_reply.started": "2022-06-11T14:08:43.341949Z",
          "shell.execute_reply": "2022-06-11T14:08:43.406874Z"
        },
        "trusted": true,
        "id": "vT5Hv11QV3_-",
        "colab": {
          "base_uri": "https://localhost:8080/",
          "height": 399
        },
        "outputId": "284b0518-697d-476b-c78e-a69a956fd739"
      },
      "execution_count": null,
      "outputs": [
        {
          "output_type": "execute_result",
          "data": {
            "text/plain": [
              "              day    aircraft  helicopter         tank          APC  \\\n",
              "count  107.000000  107.000000  107.000000   107.000000   107.000000   \n",
              "mean    55.000000  149.971963  134.186916   840.728972  2189.308411   \n",
              "std     31.032241   60.433256   42.330713   393.338482   829.829869   \n",
              "min      2.000000   10.000000    7.000000    80.000000   516.000000   \n",
              "25%     28.500000  104.500000  124.000000   523.500000  1587.500000   \n",
              "50%     55.000000  169.000000  150.000000   802.000000  2063.000000   \n",
              "75%     81.500000  200.000000  164.500000  1224.000000  2966.000000   \n",
              "max    108.000000  212.000000  178.000000  1419.000000  3466.000000   \n",
              "\n",
              "       field artillery         MRL  military auto  fuel tank       drone  \\\n",
              "count       107.000000  107.000000      65.000000  65.000000  107.000000   \n",
              "mean        394.766355  131.663551    1047.507692  69.323077  224.981308   \n",
              "std         191.901241   60.360231     466.162060   7.545917  198.105222   \n",
              "min          49.000000    4.000000     100.000000  60.000000    0.000000   \n",
              "25%         273.500000   81.000000     600.000000  60.000000   46.000000   \n",
              "50%         386.000000  132.000000    1178.000000  73.000000  158.000000   \n",
              "75%         566.000000  195.000000    1437.000000  76.000000  421.500000   \n",
              "max         712.000000  222.000000    1701.000000  76.000000  579.000000   \n",
              "\n",
              "       naval ship  anti-aircraft warfare  special equipment  \\\n",
              "count  107.000000             107.000000          88.000000   \n",
              "mean     8.112150              63.841121          33.363636   \n",
              "std      3.991328              27.030084          12.423728   \n",
              "min      2.000000               0.000000          10.000000   \n",
              "25%      4.000000              47.000000          25.000000   \n",
              "50%      8.000000              67.000000          31.000000   \n",
              "75%     13.000000              89.000000          43.000000   \n",
              "max     13.000000              97.000000          54.000000   \n",
              "\n",
              "       mobile SRBM system  vehicles and fuel tanks  cruise missiles  \n",
              "count           36.000000                42.000000        42.000000  \n",
              "mean             3.944444              2154.523810       106.238095  \n",
              "std              0.333333               184.185119        13.982235  \n",
              "min              2.000000              1796.000000        84.000000  \n",
              "25%              4.000000              2002.500000        94.000000  \n",
              "50%              4.000000              2186.000000       105.500000  \n",
              "75%              4.000000              2286.250000       120.000000  \n",
              "max              4.000000              2448.000000       125.000000  "
            ],
            "text/html": [
              "\n",
              "  <div id=\"df-e111c4da-bbf8-4f11-878d-0d758384d4bc\">\n",
              "    <div class=\"colab-df-container\">\n",
              "      <div>\n",
              "<style scoped>\n",
              "    .dataframe tbody tr th:only-of-type {\n",
              "        vertical-align: middle;\n",
              "    }\n",
              "\n",
              "    .dataframe tbody tr th {\n",
              "        vertical-align: top;\n",
              "    }\n",
              "\n",
              "    .dataframe thead th {\n",
              "        text-align: right;\n",
              "    }\n",
              "</style>\n",
              "<table border=\"1\" class=\"dataframe\">\n",
              "  <thead>\n",
              "    <tr style=\"text-align: right;\">\n",
              "      <th></th>\n",
              "      <th>day</th>\n",
              "      <th>aircraft</th>\n",
              "      <th>helicopter</th>\n",
              "      <th>tank</th>\n",
              "      <th>APC</th>\n",
              "      <th>field artillery</th>\n",
              "      <th>MRL</th>\n",
              "      <th>military auto</th>\n",
              "      <th>fuel tank</th>\n",
              "      <th>drone</th>\n",
              "      <th>naval ship</th>\n",
              "      <th>anti-aircraft warfare</th>\n",
              "      <th>special equipment</th>\n",
              "      <th>mobile SRBM system</th>\n",
              "      <th>vehicles and fuel tanks</th>\n",
              "      <th>cruise missiles</th>\n",
              "    </tr>\n",
              "  </thead>\n",
              "  <tbody>\n",
              "    <tr>\n",
              "      <th>count</th>\n",
              "      <td>107.000000</td>\n",
              "      <td>107.000000</td>\n",
              "      <td>107.000000</td>\n",
              "      <td>107.000000</td>\n",
              "      <td>107.000000</td>\n",
              "      <td>107.000000</td>\n",
              "      <td>107.000000</td>\n",
              "      <td>65.000000</td>\n",
              "      <td>65.000000</td>\n",
              "      <td>107.000000</td>\n",
              "      <td>107.000000</td>\n",
              "      <td>107.000000</td>\n",
              "      <td>88.000000</td>\n",
              "      <td>36.000000</td>\n",
              "      <td>42.000000</td>\n",
              "      <td>42.000000</td>\n",
              "    </tr>\n",
              "    <tr>\n",
              "      <th>mean</th>\n",
              "      <td>55.000000</td>\n",
              "      <td>149.971963</td>\n",
              "      <td>134.186916</td>\n",
              "      <td>840.728972</td>\n",
              "      <td>2189.308411</td>\n",
              "      <td>394.766355</td>\n",
              "      <td>131.663551</td>\n",
              "      <td>1047.507692</td>\n",
              "      <td>69.323077</td>\n",
              "      <td>224.981308</td>\n",
              "      <td>8.112150</td>\n",
              "      <td>63.841121</td>\n",
              "      <td>33.363636</td>\n",
              "      <td>3.944444</td>\n",
              "      <td>2154.523810</td>\n",
              "      <td>106.238095</td>\n",
              "    </tr>\n",
              "    <tr>\n",
              "      <th>std</th>\n",
              "      <td>31.032241</td>\n",
              "      <td>60.433256</td>\n",
              "      <td>42.330713</td>\n",
              "      <td>393.338482</td>\n",
              "      <td>829.829869</td>\n",
              "      <td>191.901241</td>\n",
              "      <td>60.360231</td>\n",
              "      <td>466.162060</td>\n",
              "      <td>7.545917</td>\n",
              "      <td>198.105222</td>\n",
              "      <td>3.991328</td>\n",
              "      <td>27.030084</td>\n",
              "      <td>12.423728</td>\n",
              "      <td>0.333333</td>\n",
              "      <td>184.185119</td>\n",
              "      <td>13.982235</td>\n",
              "    </tr>\n",
              "    <tr>\n",
              "      <th>min</th>\n",
              "      <td>2.000000</td>\n",
              "      <td>10.000000</td>\n",
              "      <td>7.000000</td>\n",
              "      <td>80.000000</td>\n",
              "      <td>516.000000</td>\n",
              "      <td>49.000000</td>\n",
              "      <td>4.000000</td>\n",
              "      <td>100.000000</td>\n",
              "      <td>60.000000</td>\n",
              "      <td>0.000000</td>\n",
              "      <td>2.000000</td>\n",
              "      <td>0.000000</td>\n",
              "      <td>10.000000</td>\n",
              "      <td>2.000000</td>\n",
              "      <td>1796.000000</td>\n",
              "      <td>84.000000</td>\n",
              "    </tr>\n",
              "    <tr>\n",
              "      <th>25%</th>\n",
              "      <td>28.500000</td>\n",
              "      <td>104.500000</td>\n",
              "      <td>124.000000</td>\n",
              "      <td>523.500000</td>\n",
              "      <td>1587.500000</td>\n",
              "      <td>273.500000</td>\n",
              "      <td>81.000000</td>\n",
              "      <td>600.000000</td>\n",
              "      <td>60.000000</td>\n",
              "      <td>46.000000</td>\n",
              "      <td>4.000000</td>\n",
              "      <td>47.000000</td>\n",
              "      <td>25.000000</td>\n",
              "      <td>4.000000</td>\n",
              "      <td>2002.500000</td>\n",
              "      <td>94.000000</td>\n",
              "    </tr>\n",
              "    <tr>\n",
              "      <th>50%</th>\n",
              "      <td>55.000000</td>\n",
              "      <td>169.000000</td>\n",
              "      <td>150.000000</td>\n",
              "      <td>802.000000</td>\n",
              "      <td>2063.000000</td>\n",
              "      <td>386.000000</td>\n",
              "      <td>132.000000</td>\n",
              "      <td>1178.000000</td>\n",
              "      <td>73.000000</td>\n",
              "      <td>158.000000</td>\n",
              "      <td>8.000000</td>\n",
              "      <td>67.000000</td>\n",
              "      <td>31.000000</td>\n",
              "      <td>4.000000</td>\n",
              "      <td>2186.000000</td>\n",
              "      <td>105.500000</td>\n",
              "    </tr>\n",
              "    <tr>\n",
              "      <th>75%</th>\n",
              "      <td>81.500000</td>\n",
              "      <td>200.000000</td>\n",
              "      <td>164.500000</td>\n",
              "      <td>1224.000000</td>\n",
              "      <td>2966.000000</td>\n",
              "      <td>566.000000</td>\n",
              "      <td>195.000000</td>\n",
              "      <td>1437.000000</td>\n",
              "      <td>76.000000</td>\n",
              "      <td>421.500000</td>\n",
              "      <td>13.000000</td>\n",
              "      <td>89.000000</td>\n",
              "      <td>43.000000</td>\n",
              "      <td>4.000000</td>\n",
              "      <td>2286.250000</td>\n",
              "      <td>120.000000</td>\n",
              "    </tr>\n",
              "    <tr>\n",
              "      <th>max</th>\n",
              "      <td>108.000000</td>\n",
              "      <td>212.000000</td>\n",
              "      <td>178.000000</td>\n",
              "      <td>1419.000000</td>\n",
              "      <td>3466.000000</td>\n",
              "      <td>712.000000</td>\n",
              "      <td>222.000000</td>\n",
              "      <td>1701.000000</td>\n",
              "      <td>76.000000</td>\n",
              "      <td>579.000000</td>\n",
              "      <td>13.000000</td>\n",
              "      <td>97.000000</td>\n",
              "      <td>54.000000</td>\n",
              "      <td>4.000000</td>\n",
              "      <td>2448.000000</td>\n",
              "      <td>125.000000</td>\n",
              "    </tr>\n",
              "  </tbody>\n",
              "</table>\n",
              "</div>\n",
              "      <button class=\"colab-df-convert\" onclick=\"convertToInteractive('df-e111c4da-bbf8-4f11-878d-0d758384d4bc')\"\n",
              "              title=\"Convert this dataframe to an interactive table.\"\n",
              "              style=\"display:none;\">\n",
              "        \n",
              "  <svg xmlns=\"http://www.w3.org/2000/svg\" height=\"24px\"viewBox=\"0 0 24 24\"\n",
              "       width=\"24px\">\n",
              "    <path d=\"M0 0h24v24H0V0z\" fill=\"none\"/>\n",
              "    <path d=\"M18.56 5.44l.94 2.06.94-2.06 2.06-.94-2.06-.94-.94-2.06-.94 2.06-2.06.94zm-11 1L8.5 8.5l.94-2.06 2.06-.94-2.06-.94L8.5 2.5l-.94 2.06-2.06.94zm10 10l.94 2.06.94-2.06 2.06-.94-2.06-.94-.94-2.06-.94 2.06-2.06.94z\"/><path d=\"M17.41 7.96l-1.37-1.37c-.4-.4-.92-.59-1.43-.59-.52 0-1.04.2-1.43.59L10.3 9.45l-7.72 7.72c-.78.78-.78 2.05 0 2.83L4 21.41c.39.39.9.59 1.41.59.51 0 1.02-.2 1.41-.59l7.78-7.78 2.81-2.81c.8-.78.8-2.07 0-2.86zM5.41 20L4 18.59l7.72-7.72 1.47 1.35L5.41 20z\"/>\n",
              "  </svg>\n",
              "      </button>\n",
              "      \n",
              "  <style>\n",
              "    .colab-df-container {\n",
              "      display:flex;\n",
              "      flex-wrap:wrap;\n",
              "      gap: 12px;\n",
              "    }\n",
              "\n",
              "    .colab-df-convert {\n",
              "      background-color: #E8F0FE;\n",
              "      border: none;\n",
              "      border-radius: 50%;\n",
              "      cursor: pointer;\n",
              "      display: none;\n",
              "      fill: #1967D2;\n",
              "      height: 32px;\n",
              "      padding: 0 0 0 0;\n",
              "      width: 32px;\n",
              "    }\n",
              "\n",
              "    .colab-df-convert:hover {\n",
              "      background-color: #E2EBFA;\n",
              "      box-shadow: 0px 1px 2px rgba(60, 64, 67, 0.3), 0px 1px 3px 1px rgba(60, 64, 67, 0.15);\n",
              "      fill: #174EA6;\n",
              "    }\n",
              "\n",
              "    [theme=dark] .colab-df-convert {\n",
              "      background-color: #3B4455;\n",
              "      fill: #D2E3FC;\n",
              "    }\n",
              "\n",
              "    [theme=dark] .colab-df-convert:hover {\n",
              "      background-color: #434B5C;\n",
              "      box-shadow: 0px 1px 3px 1px rgba(0, 0, 0, 0.15);\n",
              "      filter: drop-shadow(0px 1px 2px rgba(0, 0, 0, 0.3));\n",
              "      fill: #FFFFFF;\n",
              "    }\n",
              "  </style>\n",
              "\n",
              "      <script>\n",
              "        const buttonEl =\n",
              "          document.querySelector('#df-e111c4da-bbf8-4f11-878d-0d758384d4bc button.colab-df-convert');\n",
              "        buttonEl.style.display =\n",
              "          google.colab.kernel.accessAllowed ? 'block' : 'none';\n",
              "\n",
              "        async function convertToInteractive(key) {\n",
              "          const element = document.querySelector('#df-e111c4da-bbf8-4f11-878d-0d758384d4bc');\n",
              "          const dataTable =\n",
              "            await google.colab.kernel.invokeFunction('convertToInteractive',\n",
              "                                                     [key], {});\n",
              "          if (!dataTable) return;\n",
              "\n",
              "          const docLinkHtml = 'Like what you see? Visit the ' +\n",
              "            '<a target=\"_blank\" href=https://colab.research.google.com/notebooks/data_table.ipynb>data table notebook</a>'\n",
              "            + ' to learn more about interactive tables.';\n",
              "          element.innerHTML = '';\n",
              "          dataTable['output_type'] = 'display_data';\n",
              "          await google.colab.output.renderOutput(dataTable, element);\n",
              "          const docLink = document.createElement('div');\n",
              "          docLink.innerHTML = docLinkHtml;\n",
              "          element.appendChild(docLink);\n",
              "        }\n",
              "      </script>\n",
              "    </div>\n",
              "  </div>\n",
              "  "
            ]
          },
          "metadata": {},
          "execution_count": 8
        }
      ]
    },
    {
      "cell_type": "code",
      "source": [
        "df.isnull().sum()"
      ],
      "metadata": {
        "execution": {
          "iopub.status.busy": "2022-06-11T14:08:43.505934Z",
          "iopub.execute_input": "2022-06-11T14:08:43.506700Z",
          "iopub.status.idle": "2022-06-11T14:08:43.518144Z",
          "shell.execute_reply.started": "2022-06-11T14:08:43.506661Z",
          "shell.execute_reply": "2022-06-11T14:08:43.516930Z"
        },
        "trusted": true,
        "id": "NZuiwvxoV4AB",
        "colab": {
          "base_uri": "https://localhost:8080/"
        },
        "outputId": "3a7596d1-cd4c-429e-8ce9-29ded98b6f4a"
      },
      "execution_count": null,
      "outputs": [
        {
          "output_type": "execute_result",
          "data": {
            "text/plain": [
              "date                          0\n",
              "day                           0\n",
              "aircraft                      0\n",
              "helicopter                    0\n",
              "tank                          0\n",
              "APC                           0\n",
              "field artillery               0\n",
              "MRL                           0\n",
              "military auto                42\n",
              "fuel tank                    42\n",
              "drone                         0\n",
              "naval ship                    0\n",
              "anti-aircraft warfare         0\n",
              "special equipment            19\n",
              "mobile SRBM system           71\n",
              "vehicles and fuel tanks      65\n",
              "cruise missiles              65\n",
              "greatest losses direction    89\n",
              "dtype: int64"
            ]
          },
          "metadata": {},
          "execution_count": 9
        }
      ]
    },
    {
      "cell_type": "code",
      "source": [
        "tanggal = df['date']\n",
        "tanggal"
      ],
      "metadata": {
        "execution": {
          "iopub.status.busy": "2022-06-11T14:08:43.647192Z",
          "iopub.execute_input": "2022-06-11T14:08:43.648352Z",
          "iopub.status.idle": "2022-06-11T14:08:43.657074Z",
          "shell.execute_reply.started": "2022-06-11T14:08:43.648294Z",
          "shell.execute_reply": "2022-06-11T14:08:43.655939Z"
        },
        "trusted": true,
        "id": "YR8vTRxjV4AF",
        "colab": {
          "base_uri": "https://localhost:8080/"
        },
        "outputId": "c9b3d30e-c535-4d44-e886-dac53235a42a"
      },
      "execution_count": null,
      "outputs": [
        {
          "output_type": "execute_result",
          "data": {
            "text/plain": [
              "0      2022-02-25\n",
              "1      2022-02-26\n",
              "2      2022-02-27\n",
              "3      2022-02-28\n",
              "4      2022-03-01\n",
              "          ...    \n",
              "102    2022-06-07\n",
              "103    2022-06-08\n",
              "104    2022-06-09\n",
              "105    2022-06-10\n",
              "106    2022-06-11\n",
              "Name: date, Length: 107, dtype: object"
            ]
          },
          "metadata": {},
          "execution_count": 10
        }
      ]
    },
    {
      "cell_type": "code",
      "source": [
        "hari = df['day']\n",
        "hari"
      ],
      "metadata": {
        "execution": {
          "iopub.status.busy": "2022-06-11T14:08:43.785008Z",
          "iopub.execute_input": "2022-06-11T14:08:43.785439Z",
          "iopub.status.idle": "2022-06-11T14:08:43.795988Z",
          "shell.execute_reply.started": "2022-06-11T14:08:43.785407Z",
          "shell.execute_reply": "2022-06-11T14:08:43.794427Z"
        },
        "trusted": true,
        "id": "Us6hqHdaV4AJ",
        "colab": {
          "base_uri": "https://localhost:8080/"
        },
        "outputId": "3ed55ffd-f92c-4d32-ca97-8e3dcc687c77"
      },
      "execution_count": null,
      "outputs": [
        {
          "output_type": "execute_result",
          "data": {
            "text/plain": [
              "0        2\n",
              "1        3\n",
              "2        4\n",
              "3        5\n",
              "4        6\n",
              "      ... \n",
              "102    104\n",
              "103    105\n",
              "104    106\n",
              "105    107\n",
              "106    108\n",
              "Name: day, Length: 107, dtype: int64"
            ]
          },
          "metadata": {},
          "execution_count": 11
        }
      ]
    },
    {
      "cell_type": "code",
      "source": [
        "pesawat = df['aircraft']\n",
        "pesawat"
      ],
      "metadata": {
        "execution": {
          "iopub.status.busy": "2022-06-11T14:08:43.928277Z",
          "iopub.execute_input": "2022-06-11T14:08:43.929179Z",
          "iopub.status.idle": "2022-06-11T14:08:43.939122Z",
          "shell.execute_reply.started": "2022-06-11T14:08:43.929139Z",
          "shell.execute_reply": "2022-06-11T14:08:43.937914Z"
        },
        "trusted": true,
        "id": "a8WKpih6V4AK",
        "colab": {
          "base_uri": "https://localhost:8080/"
        },
        "outputId": "57738917-1596-4022-ead0-5e0e7438b37c"
      },
      "execution_count": null,
      "outputs": [
        {
          "output_type": "execute_result",
          "data": {
            "text/plain": [
              "0       10\n",
              "1       27\n",
              "2       27\n",
              "3       29\n",
              "4       29\n",
              "      ... \n",
              "102    212\n",
              "103    212\n",
              "104    212\n",
              "105    212\n",
              "106    212\n",
              "Name: aircraft, Length: 107, dtype: int64"
            ]
          },
          "metadata": {},
          "execution_count": 12
        }
      ]
    },
    {
      "cell_type": "code",
      "source": [
        "heli = df['helicopter']\n",
        "heli"
      ],
      "metadata": {
        "execution": {
          "iopub.status.busy": "2022-06-11T14:08:44.074539Z",
          "iopub.execute_input": "2022-06-11T14:08:44.075653Z",
          "iopub.status.idle": "2022-06-11T14:08:44.084538Z",
          "shell.execute_reply.started": "2022-06-11T14:08:44.075600Z",
          "shell.execute_reply": "2022-06-11T14:08:44.083399Z"
        },
        "trusted": true,
        "id": "cGf2Mfg-V4AM",
        "colab": {
          "base_uri": "https://localhost:8080/"
        },
        "outputId": "442b67b7-6d15-44ba-a4a9-2d278508ba22"
      },
      "execution_count": null,
      "outputs": [
        {
          "output_type": "execute_result",
          "data": {
            "text/plain": [
              "0        7\n",
              "1       26\n",
              "2       26\n",
              "3       29\n",
              "4       29\n",
              "      ... \n",
              "102    177\n",
              "103    178\n",
              "104    178\n",
              "105    178\n",
              "106    178\n",
              "Name: helicopter, Length: 107, dtype: int64"
            ]
          },
          "metadata": {},
          "execution_count": 13
        }
      ]
    },
    {
      "cell_type": "code",
      "source": [
        "tank = df['tank']\n",
        "tank"
      ],
      "metadata": {
        "execution": {
          "iopub.status.busy": "2022-06-11T14:08:44.212088Z",
          "iopub.execute_input": "2022-06-11T14:08:44.212916Z",
          "iopub.status.idle": "2022-06-11T14:08:44.222070Z",
          "shell.execute_reply.started": "2022-06-11T14:08:44.212834Z",
          "shell.execute_reply": "2022-06-11T14:08:44.220757Z"
        },
        "trusted": true,
        "id": "3eD09yuIV4AN",
        "colab": {
          "base_uri": "https://localhost:8080/"
        },
        "outputId": "1db70db5-ee25-4a08-ad3d-14430fb9b0f8"
      },
      "execution_count": null,
      "outputs": [
        {
          "output_type": "execute_result",
          "data": {
            "text/plain": [
              "0        80\n",
              "1       146\n",
              "2       150\n",
              "3       150\n",
              "4       198\n",
              "       ... \n",
              "102    1390\n",
              "103    1393\n",
              "104    1398\n",
              "105    1409\n",
              "106    1419\n",
              "Name: tank, Length: 107, dtype: int64"
            ]
          },
          "metadata": {},
          "execution_count": 14
        }
      ]
    },
    {
      "cell_type": "code",
      "source": [
        "plt.scatter(df['day'],df['aircraft'])\n",
        "plt.show()"
      ],
      "metadata": {
        "execution": {
          "iopub.status.busy": "2022-06-11T14:08:44.351912Z",
          "iopub.execute_input": "2022-06-11T14:08:44.352746Z",
          "iopub.status.idle": "2022-06-11T14:08:44.562786Z",
          "shell.execute_reply.started": "2022-06-11T14:08:44.352701Z",
          "shell.execute_reply": "2022-06-11T14:08:44.561657Z"
        },
        "trusted": true,
        "id": "f9c8sOXoV4AO",
        "colab": {
          "base_uri": "https://localhost:8080/",
          "height": 265
        },
        "outputId": "88c017db-cd39-4bd8-99be-721879717133"
      },
      "execution_count": null,
      "outputs": [
        {
          "output_type": "display_data",
          "data": {
            "text/plain": [
              "<Figure size 432x288 with 1 Axes>"
            ],
            "image/png": "[encoded data removed]"
          },
          "metadata": {
            "needs_background": "light"
          }
        }
      ]
    },
    {
      "cell_type": "code",
      "source": [
        "plt.scatter(df['day'],df['helicopter'])\n",
        "plt.show()"
      ],
      "metadata": {
        "execution": {
          "iopub.status.busy": "2022-06-11T14:08:44.564643Z",
          "iopub.execute_input": "2022-06-11T14:08:44.565060Z",
          "iopub.status.idle": "2022-06-11T14:08:44.769839Z",
          "shell.execute_reply.started": "2022-06-11T14:08:44.565013Z",
          "shell.execute_reply": "2022-06-11T14:08:44.768787Z"
        },
        "trusted": true,
        "id": "PFvD2RPsV4AP",
        "colab": {
          "base_uri": "https://localhost:8080/",
          "height": 265
        },
        "outputId": "8b3d942f-8157-4168-e1d5-18ac083b466e"
      },
      "execution_count": null,
      "outputs": [
        {
          "output_type": "display_data",
          "data": {
            "text/plain": [
              "<Figure size 432x288 with 1 Axes>"
            ],
            "image/png": "[encoded data removed]"
          },
          "metadata": {
            "needs_background": "light"
          }
        }
      ]
    },
    {
      "cell_type": "code",
      "source": [
        "plt.scatter(df['day'],df['tank'])\n",
        "plt.show()"
      ],
      "metadata": {
        "execution": {
          "iopub.status.busy": "2022-06-11T14:08:44.771977Z",
          "iopub.execute_input": "2022-06-11T14:08:44.773086Z",
          "iopub.status.idle": "2022-06-11T14:08:44.971442Z",
          "shell.execute_reply.started": "2022-06-11T14:08:44.773033Z",
          "shell.execute_reply": "2022-06-11T14:08:44.970007Z"
        },
        "trusted": true,
        "id": "gKrA6UDKV4AR",
        "colab": {
          "base_uri": "https://localhost:8080/",
          "height": 265
        },
        "outputId": "1135c5ca-646d-47bf-eff2-36b0d6ec084b"
      },
      "execution_count": null,
      "outputs": [
        {
          "output_type": "display_data",
          "data": {
            "text/plain": [
              "<Figure size 432x288 with 1 Axes>"
            ],
            "image/png": "[encoded data removed]"
          },
          "metadata": {
            "needs_background": "light"
          }
        }
      ]
    },
    {
      "cell_type": "code",
      "source": [
        "x_train, x_test, y_train, y_test = train_test_split(df.tank,df.helicopter, test_size = 0.2)"
      ],
      "metadata": {
        "execution": {
          "iopub.status.busy": "2022-06-11T14:08:44.973717Z",
          "iopub.execute_input": "2022-06-11T14:08:44.974116Z",
          "iopub.status.idle": "2022-06-11T14:08:44.980718Z",
          "shell.execute_reply.started": "2022-06-11T14:08:44.974079Z",
          "shell.execute_reply": "2022-06-11T14:08:44.979393Z"
        },
        "trusted": true,
        "id": "ZQ7oP2hRV4AS"
      },
      "execution_count": null,
      "outputs": []
    },
    {
      "cell_type": "code",
      "source": [
        "function_inputs = x_train\n",
        "desired_output = 44\n",
        "\n",
        "def fitness_func(solution, solution_idx):\n",
        "    output = np.sum(solution*function_inputs)\n",
        "    fitness = 1.0 / np.abs(output - desired_output)\n",
        "    return fitness\n",
        "\n",
        "\n",
        "    \n",
        "fitness_function = fitness_func\n",
        "\n",
        "num_generations = 50\n",
        "num_parents_mating = 4\n",
        "\n",
        "sol_per_pop = 8\n",
        "num_genes = len(function_inputs)\n",
        "\n",
        "init_range_low = -2\n",
        "init_range_high = 5\n",
        "\n",
        "parent_selection_type = \"sss\"\n",
        "keep_parents = 1\n",
        "\n",
        "crossover_type = \"single_point\"\n",
        "\n",
        "mutation_type = \"random\"\n",
        "mutation_percent_genes = 10"
      ],
      "metadata": {
        "execution": {
          "iopub.status.busy": "2022-06-11T14:08:44.982343Z",
          "iopub.execute_input": "2022-06-11T14:08:44.982686Z",
          "iopub.status.idle": "2022-06-11T14:08:44.994772Z",
          "shell.execute_reply.started": "2022-06-11T14:08:44.982656Z",
          "shell.execute_reply": "2022-06-11T14:08:44.993946Z"
        },
        "trusted": true,
        "id": "nymmyLBiV4AS"
      },
      "execution_count": null,
      "outputs": []
    },
    {
      "cell_type": "code",
      "source": [
        "ga_instance = pygad.GA(num_generations=num_generations,\n",
        "                       num_parents_mating=num_parents_mating,\n",
        "                       fitness_func=fitness_function,\n",
        "                       sol_per_pop=sol_per_pop,\n",
        "                       num_genes=num_genes,\n",
        "                       init_range_low=init_range_low,\n",
        "                       init_range_high=init_range_high,\n",
        "                       parent_selection_type=parent_selection_type,\n",
        "                       keep_parents=keep_parents,\n",
        "                       crossover_type=crossover_type,\n",
        "                       mutation_type=mutation_type,\n",
        "                       mutation_percent_genes=mutation_percent_genes)"
      ],
      "metadata": {
        "execution": {
          "iopub.status.busy": "2022-06-11T14:08:44.996384Z",
          "iopub.execute_input": "2022-06-11T14:08:44.997315Z",
          "iopub.status.idle": "2022-06-11T14:08:45.025472Z",
          "shell.execute_reply.started": "2022-06-11T14:08:44.997278Z",
          "shell.execute_reply": "2022-06-11T14:08:45.023876Z"
        },
        "trusted": true,
        "id": "KtDKLqWFV4AU"
      },
      "execution_count": null,
      "outputs": []
    },
    {
      "cell_type": "code",
      "source": [
        "ga_instance.run()"
      ],
      "metadata": {
        "id": "lTFCgyNplNBH"
      },
      "execution_count": null,
      "outputs": []
    },
    {
      "cell_type": "code",
      "source": [
        "solution, solution_fitness, solution_idx = ga_instance.best_solution()\n",
        "print(\"Parameters of the best solution : {solution}\".format(solution=solution))\n",
        "print(\"Fitness value of the best solution = {solution_fitness}\".format(solution_fitness=solution_fitness))\n",
        "\n",
        "prediction = np.sum(np.array(function_inputs)*solution)\n",
        "print(\"Predicted output based on the best solution : {prediction}\".format(prediction=prediction))"
      ],
      "metadata": {
        "id": "nVOlj9OhV4AW",
        "colab": {
          "base_uri": "https://localhost:8080/"
        },
        "outputId": "ec6ec3a3-58a6-49ab-f3ea-c821f5ab9bfa"
      },
      "execution_count": null,
      "outputs": [
        {
          "output_type": "stream",
          "name": "stdout",
          "text": [
            "Parameters of the best solution : [-0.38868565  5.14238483 -1.4616024  -0.71178463 -0.93064268  2.18787263\n",
            " -0.56666731  1.73896518 -3.11096388 -1.56084992 -1.84626669  3.22506208\n",
            " -0.88819384 -0.8137917  -0.08467383  2.31589587 -1.28627804  2.04435797\n",
            " -0.84726236  3.064485   -0.9092125  -1.27594737  0.87331    -0.34021118\n",
            " -1.00797919 -2.14830997 -1.16849835 -0.09990209 -1.39049269  1.09202789\n",
            "  1.86432597 -2.65603989  0.2577237  -1.19847495 -0.29841891 -1.42963075\n",
            "  4.28804941  1.05331543 -3.55797511  0.99063744 -2.42227392  0.16842285\n",
            "  0.03015671 -1.6226089   2.05706371  3.59440343  1.07179889 -0.32953273\n",
            " -5.1737364   2.39215781  5.05046676 -1.09096517  3.94568156 -1.41906471\n",
            " -2.39919704  2.39081563 -1.00267551  4.47685467  2.63233186  0.60071852\n",
            " -2.16972289  1.94898641  3.32166646  3.99999951  3.49668574 -1.10627939\n",
            "  1.48422836 -3.33817969 -2.02059823 -0.6443189   4.80131141  4.1558489\n",
            "  4.9690962  -2.6946499   2.21896364  0.81284815  0.40143992  0.46309147\n",
            "  0.40900289 -0.83707221 -2.68703703  3.44787384 -0.79464568  1.5433043\n",
            "  0.47081305]\n",
            "Fitness value of the best solution = 0.09218929811603035\n",
            "Predicted output based on the best solution : 54.84724605172056\n"
          ]
        }
      ]
    },
    {
      "cell_type": "code",
      "source": [
        "varx = [ ]\n",
        "for i in range(len(pesawat)):\n",
        "  varx.append([pesawat[i],heli[i],tank[i]])\n",
        "varx"
      ],
      "metadata": {
        "id": "Py8RJ570aI7I",
        "colab": {
          "base_uri": "https://localhost:8080/"
        },
        "outputId": "ba856604-64ff-4f3a-d1be-bec7f186da51"
      },
      "execution_count": null,
      "outputs": [
        {
          "output_type": "execute_result",
          "data": {
            "text/plain": [
              "[[10, 7, 80],\n",
              " [27, 26, 146],\n",
              " [27, 26, 150],\n",
              " [29, 29, 150],\n",
              " [29, 29, 198],\n",
              " [30, 31, 211],\n",
              " [30, 31, 217],\n",
              " [33, 37, 251],\n",
              " [39, 40, 269],\n",
              " [44, 48, 285],\n",
              " [46, 68, 290],\n",
              " [48, 80, 303],\n",
              " [49, 81, 317],\n",
              " [49, 81, 335],\n",
              " [57, 83, 353],\n",
              " [58, 83, 362],\n",
              " [74, 86, 374],\n",
              " [77, 90, 389],\n",
              " [81, 95, 404],\n",
              " [84, 108, 430],\n",
              " [86, 108, 444],\n",
              " [93, 112, 450],\n",
              " [95, 115, 466],\n",
              " [96, 118, 476],\n",
              " [97, 121, 498],\n",
              " [99, 123, 509],\n",
              " [101, 124, 517],\n",
              " [108, 124, 530],\n",
              " [115, 125, 561],\n",
              " [117, 127, 575],\n",
              " [121, 127, 582],\n",
              " [123, 127, 586],\n",
              " [127, 129, 597],\n",
              " [131, 131, 605],\n",
              " [135, 131, 614],\n",
              " [143, 131, 625],\n",
              " [143, 134, 631],\n",
              " [143, 134, 644],\n",
              " [147, 134, 647],\n",
              " [150, 134, 676],\n",
              " [150, 135, 684],\n",
              " [150, 135, 698],\n",
              " [150, 135, 700],\n",
              " [151, 136, 705],\n",
              " [152, 137, 722],\n",
              " [154, 137, 725],\n",
              " [157, 140, 732],\n",
              " [158, 143, 739],\n",
              " [160, 144, 753],\n",
              " [163, 144, 756],\n",
              " [163, 145, 762],\n",
              " [165, 146, 773],\n",
              " [167, 147, 790],\n",
              " [169, 150, 802],\n",
              " [171, 150, 815],\n",
              " [172, 151, 829],\n",
              " [176, 153, 838],\n",
              " [177, 154, 854],\n",
              " [179, 154, 873],\n",
              " [181, 154, 884],\n",
              " [184, 154, 918],\n",
              " [185, 155, 939],\n",
              " [187, 155, 970],\n",
              " [189, 155, 986],\n",
              " [190, 155, 1008],\n",
              " [192, 155, 1026],\n",
              " [194, 155, 1048],\n",
              " [194, 155, 1062],\n",
              " [194, 155, 1077],\n",
              " [196, 155, 1092],\n",
              " [199, 155, 1110],\n",
              " [199, 155, 1122],\n",
              " [199, 156, 1130],\n",
              " [199, 158, 1145],\n",
              " [199, 158, 1170],\n",
              " [199, 160, 1187],\n",
              " [199, 161, 1195],\n",
              " [200, 162, 1205],\n",
              " [200, 163, 1218],\n",
              " [200, 164, 1220],\n",
              " [200, 165, 1228],\n",
              " [201, 167, 1235],\n",
              " [202, 167, 1251],\n",
              " [203, 167, 1254],\n",
              " [204, 168, 1263],\n",
              " [204, 169, 1278],\n",
              " [204, 170, 1285],\n",
              " [204, 170, 1293],\n",
              " [205, 170, 1302],\n",
              " [206, 170, 1305],\n",
              " [206, 170, 1315],\n",
              " [206, 170, 1322],\n",
              " [207, 174, 1330],\n",
              " [207, 174, 1338],\n",
              " [207, 174, 1349],\n",
              " [208, 174, 1358],\n",
              " [208, 175, 1361],\n",
              " [210, 175, 1363],\n",
              " [210, 175, 1367],\n",
              " [210, 175, 1376],\n",
              " [210, 175, 1381],\n",
              " [211, 176, 1386],\n",
              " [212, 177, 1390],\n",
              " [212, 178, 1393],\n",
              " [212, 178, 1398],\n",
              " [212, 178, 1409],\n",
              " [212, 178, 1419]]"
            ]
          },
          "metadata": {},
          "execution_count": 23
        }
      ]
    },
    {
      "cell_type": "code",
      "source": [
        "from datetime import date\n",
        "ganda = LinearRegression().fit(varx,hari)"
      ],
      "metadata": {
        "id": "Fcrxu5awbmr1"
      },
      "execution_count": null,
      "outputs": []
    },
    {
      "cell_type": "code",
      "source": [
        "aa = ganda.intercept_\n",
        "bb = ganda.coef_\n",
        "rr = ganda.score(varx,hari)\n",
        "print(aa)\n",
        "print(bb)\n",
        "print(rr)"
      ],
      "metadata": {
        "id": "mos5cHBCdBG7",
        "colab": {
          "base_uri": "https://localhost:8080/"
        },
        "outputId": "69a6eed9-47ed-4e7c-dcd6-bd7b7a0463e6"
      },
      "execution_count": null,
      "outputs": [
        {
          "output_type": "stream",
          "name": "stdout",
          "text": [
            "-9.571066576172683\n",
            "[-0.01276516 -0.02148193  0.08250944]\n",
            "0.9913912749772169\n"
          ]
        }
      ]
    },
    {
      "cell_type": "code",
      "source": [
        "X_1 = int(input(\"Masukkan banyaknya pesawat : \"))\n",
        "X_2 = int(input(\"Masukkan banyaknya helicopter : \"))\n",
        "X_3 = int(input(\"Masukkan banyaknya tank : \"))\n",
        "evaluasi = -9.16 + (0.011*X_1)-(0.032*X_2)+(0.079*X_3)\n",
        "evaluasi"
      ],
      "metadata": {
        "id": "C5B7lD2DdbAe",
        "colab": {
          "base_uri": "https://localhost:8080/"
        },
        "outputId": "0072d7a6-8df3-44af-d138-160fbdd5c6e2"
      },
      "execution_count": null,
      "outputs": [
        {
          "name": "stdout",
          "output_type": "stream",
          "text": [
            "Masukkan banyaknya pesawat : 212\n",
            "Masukkan banyaknya helicopter : 178\n",
            "Masukkan banyaknya tank : 1419\n"
          ]
        },
        {
          "output_type": "execute_result",
          "data": {
            "text/plain": [
              "99.577"
            ]
          },
          "metadata": {},
          "execution_count": 26
        }
      ]
    }
  ]
}